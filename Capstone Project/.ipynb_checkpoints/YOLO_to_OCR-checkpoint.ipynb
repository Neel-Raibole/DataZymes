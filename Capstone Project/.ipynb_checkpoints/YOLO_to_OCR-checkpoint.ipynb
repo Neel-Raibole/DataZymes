{
  "nbformat": 4,
  "nbformat_minor": 0,
  "metadata": {
    "colab": {
      "provenance": []
    },
    "kernelspec": {
      "name": "python3",
      "display_name": "Python 3"
    },
    "language_info": {
      "name": "python"
    }
  },
  "cells": [
    {
      "cell_type": "code",
      "execution_count": null,
      "metadata": {
        "colab": {
          "base_uri": "https://localhost:8080/"
        },
        "id": "oR7NfoJf4z83",
        "outputId": "bf87d71b-6966-4ade-dce2-a051cac25924"
      },
      "outputs": [
        {
          "output_type": "stream",
          "name": "stdout",
          "text": [
            "Collecting paddlepaddle\n",
            "  Downloading paddlepaddle-2.6.2-cp311-cp311-manylinux1_x86_64.whl.metadata (8.6 kB)\n",
            "Requirement already satisfied: httpx in /usr/local/lib/python3.11/dist-packages (from paddlepaddle) (0.28.1)\n",
            "Requirement already satisfied: numpy>=1.13 in /usr/local/lib/python3.11/dist-packages (from paddlepaddle) (1.26.4)\n",
            "Requirement already satisfied: Pillow in /usr/local/lib/python3.11/dist-packages (from paddlepaddle) (11.1.0)\n",
            "Requirement already satisfied: decorator in /usr/local/lib/python3.11/dist-packages (from paddlepaddle) (4.4.2)\n",
            "Collecting astor (from paddlepaddle)\n",
            "  Downloading astor-0.8.1-py2.py3-none-any.whl.metadata (4.2 kB)\n",
            "Collecting opt-einsum==3.3.0 (from paddlepaddle)\n",
            "  Downloading opt_einsum-3.3.0-py3-none-any.whl.metadata (6.5 kB)\n",
            "Requirement already satisfied: protobuf>=3.20.2 in /usr/local/lib/python3.11/dist-packages (from paddlepaddle) (4.25.6)\n",
            "Requirement already satisfied: anyio in /usr/local/lib/python3.11/dist-packages (from httpx->paddlepaddle) (3.7.1)\n",
            "Requirement already satisfied: certifi in /usr/local/lib/python3.11/dist-packages (from httpx->paddlepaddle) (2025.1.31)\n",
            "Requirement already satisfied: httpcore==1.* in /usr/local/lib/python3.11/dist-packages (from httpx->paddlepaddle) (1.0.7)\n",
            "Requirement already satisfied: idna in /usr/local/lib/python3.11/dist-packages (from httpx->paddlepaddle) (3.10)\n",
            "Requirement already satisfied: h11<0.15,>=0.13 in /usr/local/lib/python3.11/dist-packages (from httpcore==1.*->httpx->paddlepaddle) (0.14.0)\n",
            "Requirement already satisfied: sniffio>=1.1 in /usr/local/lib/python3.11/dist-packages (from anyio->httpx->paddlepaddle) (1.3.1)\n",
            "Downloading paddlepaddle-2.6.2-cp311-cp311-manylinux1_x86_64.whl (126.0 MB)\n",
            "\u001b[2K   \u001b[90m━━━━━━━━━━━━━━━━━━━━━━━━━━━━━━━━━━━━━━━━\u001b[0m \u001b[32m126.0/126.0 MB\u001b[0m \u001b[31m4.7 MB/s\u001b[0m eta \u001b[36m0:00:00\u001b[0m\n",
            "\u001b[?25hDownloading opt_einsum-3.3.0-py3-none-any.whl (65 kB)\n",
            "\u001b[2K   \u001b[90m━━━━━━━━━━━━━━━━━━━━━━━━━━━━━━━━━━━━━━━━\u001b[0m \u001b[32m65.5/65.5 kB\u001b[0m \u001b[31m1.4 MB/s\u001b[0m eta \u001b[36m0:00:00\u001b[0m\n",
            "\u001b[?25hDownloading astor-0.8.1-py2.py3-none-any.whl (27 kB)\n",
            "Installing collected packages: opt-einsum, astor, paddlepaddle\n",
            "  Attempting uninstall: opt-einsum\n",
            "    Found existing installation: opt_einsum 3.4.0\n",
            "    Uninstalling opt_einsum-3.4.0:\n",
            "      Successfully uninstalled opt_einsum-3.4.0\n",
            "Successfully installed astor-0.8.1 opt-einsum-3.3.0 paddlepaddle-2.6.2\n",
            "Collecting paddleocr\n",
            "  Downloading paddleocr-2.10.0-py3-none-any.whl.metadata (12 kB)\n",
            "Requirement already satisfied: shapely in /usr/local/lib/python3.11/dist-packages (from paddleocr) (2.0.7)\n",
            "Requirement already satisfied: scikit-image in /usr/local/lib/python3.11/dist-packages (from paddleocr) (0.25.2)\n",
            "Collecting pyclipper (from paddleocr)\n",
            "  Downloading pyclipper-1.3.0.post6-cp311-cp311-manylinux_2_17_x86_64.manylinux2014_x86_64.whl.metadata (9.0 kB)\n",
            "Collecting lmdb (from paddleocr)\n",
            "  Downloading lmdb-1.6.2-cp311-cp311-manylinux_2_17_x86_64.manylinux2014_x86_64.whl.metadata (1.1 kB)\n",
            "Requirement already satisfied: tqdm in /usr/local/lib/python3.11/dist-packages (from paddleocr) (4.67.1)\n",
            "Requirement already satisfied: numpy in /usr/local/lib/python3.11/dist-packages (from paddleocr) (1.26.4)\n",
            "Collecting rapidfuzz (from paddleocr)\n",
            "  Downloading rapidfuzz-3.12.2-cp311-cp311-manylinux_2_17_x86_64.manylinux2014_x86_64.whl.metadata (12 kB)\n",
            "Requirement already satisfied: opencv-python in /usr/local/lib/python3.11/dist-packages (from paddleocr) (4.11.0.86)\n",
            "Requirement already satisfied: opencv-contrib-python in /usr/local/lib/python3.11/dist-packages (from paddleocr) (4.11.0.86)\n",
            "Requirement already satisfied: cython in /usr/local/lib/python3.11/dist-packages (from paddleocr) (3.0.12)\n",
            "Requirement already satisfied: Pillow in /usr/local/lib/python3.11/dist-packages (from paddleocr) (11.1.0)\n",
            "Requirement already satisfied: pyyaml in /usr/local/lib/python3.11/dist-packages (from paddleocr) (6.0.2)\n",
            "Collecting python-docx (from paddleocr)\n",
            "  Downloading python_docx-1.1.2-py3-none-any.whl.metadata (2.0 kB)\n",
            "Requirement already satisfied: beautifulsoup4 in /usr/local/lib/python3.11/dist-packages (from paddleocr) (4.13.3)\n",
            "Requirement already satisfied: fonttools>=4.24.0 in /usr/local/lib/python3.11/dist-packages (from paddleocr) (4.56.0)\n",
            "Collecting fire>=0.3.0 (from paddleocr)\n",
            "  Downloading fire-0.7.0.tar.gz (87 kB)\n",
            "\u001b[2K     \u001b[90m━━━━━━━━━━━━━━━━━━━━━━━━━━━━━━━━━━━━━━━━\u001b[0m \u001b[32m87.2/87.2 kB\u001b[0m \u001b[31m3.3 MB/s\u001b[0m eta \u001b[36m0:00:00\u001b[0m\n",
            "\u001b[?25h  Preparing metadata (setup.py) ... \u001b[?25l\u001b[?25hdone\n",
            "Requirement already satisfied: requests in /usr/local/lib/python3.11/dist-packages (from paddleocr) (2.32.3)\n",
            "Requirement already satisfied: albumentations in /usr/local/lib/python3.11/dist-packages (from paddleocr) (2.0.5)\n",
            "Requirement already satisfied: albucore in /usr/local/lib/python3.11/dist-packages (from paddleocr) (0.0.23)\n",
            "Requirement already satisfied: termcolor in /usr/local/lib/python3.11/dist-packages (from fire>=0.3.0->paddleocr) (2.5.0)\n",
            "Requirement already satisfied: stringzilla>=3.10.4 in /usr/local/lib/python3.11/dist-packages (from albucore->paddleocr) (3.12.2)\n",
            "Requirement already satisfied: simsimd>=5.9.2 in /usr/local/lib/python3.11/dist-packages (from albucore->paddleocr) (6.2.1)\n",
            "Requirement already satisfied: opencv-python-headless>=4.9.0.80 in /usr/local/lib/python3.11/dist-packages (from albucore->paddleocr) (4.11.0.86)\n",
            "Requirement already satisfied: scipy>=1.10.0 in /usr/local/lib/python3.11/dist-packages (from albumentations->paddleocr) (1.13.1)\n",
            "Requirement already satisfied: pydantic>=2.9.2 in /usr/local/lib/python3.11/dist-packages (from albumentations->paddleocr) (2.10.6)\n",
            "Requirement already satisfied: soupsieve>1.2 in /usr/local/lib/python3.11/dist-packages (from beautifulsoup4->paddleocr) (2.6)\n",
            "Requirement already satisfied: typing-extensions>=4.0.0 in /usr/local/lib/python3.11/dist-packages (from beautifulsoup4->paddleocr) (4.12.2)\n",
            "Requirement already satisfied: lxml>=3.1.0 in /usr/local/lib/python3.11/dist-packages (from python-docx->paddleocr) (5.3.1)\n",
            "Requirement already satisfied: charset-normalizer<4,>=2 in /usr/local/lib/python3.11/dist-packages (from requests->paddleocr) (3.4.1)\n",
            "Requirement already satisfied: idna<4,>=2.5 in /usr/local/lib/python3.11/dist-packages (from requests->paddleocr) (3.10)\n",
            "Requirement already satisfied: urllib3<3,>=1.21.1 in /usr/local/lib/python3.11/dist-packages (from requests->paddleocr) (2.3.0)\n",
            "Requirement already satisfied: certifi>=2017.4.17 in /usr/local/lib/python3.11/dist-packages (from requests->paddleocr) (2025.1.31)\n",
            "Requirement already satisfied: networkx>=3.0 in /usr/local/lib/python3.11/dist-packages (from scikit-image->paddleocr) (3.4.2)\n",
            "Requirement already satisfied: imageio!=2.35.0,>=2.33 in /usr/local/lib/python3.11/dist-packages (from scikit-image->paddleocr) (2.37.0)\n",
            "Requirement already satisfied: tifffile>=2022.8.12 in /usr/local/lib/python3.11/dist-packages (from scikit-image->paddleocr) (2025.2.18)\n",
            "Requirement already satisfied: packaging>=21 in /usr/local/lib/python3.11/dist-packages (from scikit-image->paddleocr) (24.2)\n",
            "Requirement already satisfied: lazy-loader>=0.4 in /usr/local/lib/python3.11/dist-packages (from scikit-image->paddleocr) (0.4)\n",
            "Requirement already satisfied: annotated-types>=0.6.0 in /usr/local/lib/python3.11/dist-packages (from pydantic>=2.9.2->albumentations->paddleocr) (0.7.0)\n",
            "Requirement already satisfied: pydantic-core==2.27.2 in /usr/local/lib/python3.11/dist-packages (from pydantic>=2.9.2->albumentations->paddleocr) (2.27.2)\n",
            "Downloading paddleocr-2.10.0-py3-none-any.whl (2.4 MB)\n",
            "\u001b[2K   \u001b[90m━━━━━━━━━━━━━━━━━━━━━━━━━━━━━━━━━━━━━━━━\u001b[0m \u001b[32m2.4/2.4 MB\u001b[0m \u001b[31m32.2 MB/s\u001b[0m eta \u001b[36m0:00:00\u001b[0m\n",
            "\u001b[?25hDownloading lmdb-1.6.2-cp311-cp311-manylinux_2_17_x86_64.manylinux2014_x86_64.whl (297 kB)\n",
            "\u001b[2K   \u001b[90m━━━━━━━━━━━━━━━━━━━━━━━━━━━━━━━━━━━━━━━━\u001b[0m \u001b[32m297.8/297.8 kB\u001b[0m \u001b[31m22.0 MB/s\u001b[0m eta \u001b[36m0:00:00\u001b[0m\n",
            "\u001b[?25hDownloading pyclipper-1.3.0.post6-cp311-cp311-manylinux_2_17_x86_64.manylinux2014_x86_64.whl (969 kB)\n",
            "\u001b[2K   \u001b[90m━━━━━━━━━━━━━━━━━━━━━━━━━━━━━━━━━━━━━━━━\u001b[0m \u001b[32m969.6/969.6 kB\u001b[0m \u001b[31m48.2 MB/s\u001b[0m eta \u001b[36m0:00:00\u001b[0m\n",
            "\u001b[?25hDownloading python_docx-1.1.2-py3-none-any.whl (244 kB)\n",
            "\u001b[2K   \u001b[90m━━━━━━━━━━━━━━━━━━━━━━━━━━━━━━━━━━━━━━━━\u001b[0m \u001b[32m244.3/244.3 kB\u001b[0m \u001b[31m16.7 MB/s\u001b[0m eta \u001b[36m0:00:00\u001b[0m\n",
            "\u001b[?25hDownloading rapidfuzz-3.12.2-cp311-cp311-manylinux_2_17_x86_64.manylinux2014_x86_64.whl (3.1 MB)\n",
            "\u001b[2K   \u001b[90m━━━━━━━━━━━━━━━━━━━━━━━━━━━━━━━━━━━━━━━━\u001b[0m \u001b[32m3.1/3.1 MB\u001b[0m \u001b[31m83.0 MB/s\u001b[0m eta \u001b[36m0:00:00\u001b[0m\n",
            "\u001b[?25hBuilding wheels for collected packages: fire\n",
            "  Building wheel for fire (setup.py) ... \u001b[?25l\u001b[?25hdone\n",
            "  Created wheel for fire: filename=fire-0.7.0-py3-none-any.whl size=114249 sha256=1ceb323d335c3af90e817c31a9023edbf21393559b43d5fb9c72f44cda68a9b0\n",
            "  Stored in directory: /root/.cache/pip/wheels/46/54/24/1624fd5b8674eb1188623f7e8e17cdf7c0f6c24b609dfb8a89\n",
            "Successfully built fire\n",
            "Installing collected packages: pyclipper, lmdb, rapidfuzz, python-docx, fire, paddleocr\n",
            "Successfully installed fire-0.7.0 lmdb-1.6.2 paddleocr-2.10.0 pyclipper-1.3.0.post6 python-docx-1.1.2 rapidfuzz-3.12.2\n"
          ]
        }
      ],
      "source": [
        "!pip install paddlepaddle\n",
        "!pip install paddleocr"
      ]
    },
    {
      "cell_type": "code",
      "source": [
        "from google.colab import drive\n",
        "drive.mount('/content/drive')"
      ],
      "metadata": {
        "colab": {
          "base_uri": "https://localhost:8080/"
        },
        "id": "gcPSEtTtsia4",
        "outputId": "350f800f-ccc9-4f2c-ca31-4e72e988975d"
      },
      "execution_count": null,
      "outputs": [
        {
          "output_type": "stream",
          "name": "stdout",
          "text": [
            "Mounted at /content/drive\n"
          ]
        }
      ]
    },
    {
      "cell_type": "code",
      "source": [
        "import json\n",
        "import numpy as np\n",
        "import cv2\n",
        "from paddleocr import PaddleOCR\n",
        "import matplotlib.pyplot as plt"
      ],
      "metadata": {
        "id": "H0lO7fQLsc2D"
      },
      "execution_count": null,
      "outputs": []
    },
    {
      "cell_type": "code",
      "source": [
        "json_path = '/content/drive/MyDrive/YOLO_Training/predictions/annotations.json'\n",
        "with open(json_path, 'r') as f:\n",
        "    detections = json.load(f)"
      ],
      "metadata": {
        "id": "HppNjejs49QL"
      },
      "execution_count": null,
      "outputs": []
    },
    {
      "cell_type": "code",
      "source": [
        "image = cv2.imread(\"/content/drive/MyDrive/YOLO_Training/predictions/test_img.png\")"
      ],
      "metadata": {
        "id": "NNet08YtsgB9"
      },
      "execution_count": null,
      "outputs": []
    },
    {
      "cell_type": "code",
      "source": [
        "# Create lists for each type you want to crop\n",
        "\n",
        "data_points = []\n",
        "\n",
        "x_axis_ticks = []\n",
        "y_axis_ticks = []\n",
        "\n",
        "x_axis_title = []\n",
        "y_axis_title = []\n",
        "\n",
        "title = []\n",
        "\n",
        "legend = []\n",
        "\n",
        "plotting_area = []\n",
        "chart_type = []"
      ],
      "metadata": {
        "id": "6XBVHEeps4FL"
      },
      "execution_count": null,
      "outputs": []
    },
    {
      "cell_type": "code",
      "source": [
        "# Filter and collect coordinates based on the label\n",
        "for detection in detections:\n",
        "    label = detection['label']\n",
        "    coords = detection['coordinates']\n",
        "    x1, y1, x2, y2 = map(int, coords)\n",
        "\n",
        "    if label == \"Data Points\":\n",
        "        data_points.append((x1, y1, x2, y2))\n",
        "\n",
        "    elif label == \"X Axis Ticks\":\n",
        "        x_axis_ticks.append((x1, y1, x2, y2))\n",
        "    elif label == \"Y Axis Ticks\":\n",
        "        y_axis_ticks.append((x1, y1, x2, y2))\n",
        "\n",
        "    elif label == \"X Axis Title\":\n",
        "        x_axis_title.append((x1, y1, x2, y2))\n",
        "    elif label == \"Y Axis Title\":\n",
        "        y_axis_title.append((x1, y1, x2, y2))\n",
        "\n",
        "    elif label == \"Title\":\n",
        "        title.append((x1, y1, x2, y2))\n",
        "\n",
        "    elif label == \"Legend\":\n",
        "        legend.append((x1, y1, x2, y2))\n",
        "\n",
        "    elif label == \"Bar Chart\" or label == \"Line Chart\" or label == \"Pie Chart\":\n",
        "        plotting_area.append((x1, y1, x2, y2))\n",
        "    elif label == \"Bar Chart\" or label == \"Line Chart\" or label == \"Pie Chart\":\n",
        "        chart_type.append(label)"
      ],
      "metadata": {
        "id": "Vz1TtUMss8rn"
      },
      "execution_count": null,
      "outputs": []
    },
    {
      "cell_type": "code",
      "source": [
        "# Sort the detections within each category:\n",
        "# - For Data Points and X Axis Ticks, sort by the x-coordinate (x1)\n",
        "data_points = sorted(data_points, key=lambda box: box[0])\n",
        "x_axis_ticks = sorted(x_axis_ticks, key=lambda box: box[0])\n",
        "# - For Y Axis Ticks, sort by the y-coordinate (y1)\n",
        "y_axis_ticks = sorted(y_axis_ticks, key=lambda box: box[1], reverse=True)\n",
        "\n",
        "# Create a dictionary to store the cropped images\n",
        "cropped_images = {}"
      ],
      "metadata": {
        "id": "RfRbzJu4z9rw"
      },
      "execution_count": null,
      "outputs": []
    },
    {
      "cell_type": "code",
      "source": [
        "y_axis_ticks"
      ],
      "metadata": {
        "colab": {
          "base_uri": "https://localhost:8080/"
        },
        "id": "etuUijPq4avl",
        "outputId": "41da6de0-35e7-441c-cbac-443d45a3a711"
      },
      "execution_count": null,
      "outputs": [
        {
          "output_type": "execute_result",
          "data": {
            "text/plain": [
              "[(112, 1228, 160, 1277),\n",
              " (110, 1041, 158, 1090),\n",
              " (90, 851, 157, 900),\n",
              " (91, 661, 156, 712),\n",
              " (89, 470, 157, 520),\n",
              " (88, 280, 156, 332),\n",
              " (88, 93, 156, 143)]"
            ]
          },
          "metadata": {},
          "execution_count": 48
        }
      ]
    },
    {
      "cell_type": "code",
      "source": [
        "# Crop and store Data Points with keys like data_point_label_1, data_point_label_2, ...\n",
        "for i, (x1, y1, x2, y2) in enumerate(data_points, start =1):\n",
        "    crop = image[y1:y2, x1:x2]\n",
        "    key = f\"data_point_label_{i}\"\n",
        "    cropped_images[key] = crop"
      ],
      "metadata": {
        "id": "dgfj7q7oz-Nf"
      },
      "execution_count": null,
      "outputs": []
    },
    {
      "cell_type": "code",
      "source": [
        "# Crop and store X Axis Ticks with keys like x_axis_ticks_1, x_axis_ticks_2, ...\n",
        "for i, (x1, y1, x2, y2) in enumerate(x_axis_ticks, start = 1):\n",
        "    crop = image[y1:y2, x1:x2]\n",
        "    key = f\"x_axis_ticks_{i}\"\n",
        "    cropped_images[key] = crop"
      ],
      "metadata": {
        "id": "10y198N80N3Y"
      },
      "execution_count": null,
      "outputs": []
    },
    {
      "cell_type": "code",
      "source": [
        "# Crop and store Y Axis Ticks with keys like y_axis_ticks_1, y_axis_ticks_2, ...\n",
        "for i, (x1, y1, x2, y2) in enumerate(y_axis_ticks, start=1):\n",
        "    crop = image[y1:y2, x1:x2]\n",
        "    key = f\"y_axis_ticks_{i}\"\n",
        "    cropped_images[key] = crop"
      ],
      "metadata": {
        "id": "_-vAc2Sj0ScM"
      },
      "execution_count": null,
      "outputs": []
    },
    {
      "cell_type": "code",
      "source": [
        "# Crop and store X Axis Title with keys like x_axis_title_1, x_axis_title_2, [you would usually only have 1 x_axis_title, its been put in a list for handling edge case]...\n",
        "for i, (x1, y1, x2, y2) in enumerate(x_axis_title, start=1):\n",
        "    crop = image[y1:y2, x1:x2]\n",
        "    key = f\"x_axis_title_{i}\"\n",
        "    cropped_images[key] = crop"
      ],
      "metadata": {
        "id": "-7flpSYYk6jk"
      },
      "execution_count": null,
      "outputs": []
    },
    {
      "cell_type": "code",
      "source": [
        "# Crop and store Y Axis Title with keys like y_axis_title_1, y_axis_title_2, [you would usually only have 1 y_axis_title, its been put in a list for handling edge case]...\n",
        "for i, (x1, y1, x2, y2) in enumerate(y_axis_title, start=1):\n",
        "    crop = image[y1:y2, x1:x2]\n",
        "    key = f\"y_axis_title_{i}\"\n",
        "    cropped_images[key] = crop"
      ],
      "metadata": {
        "id": "OW_r6w-ok6-z"
      },
      "execution_count": null,
      "outputs": []
    },
    {
      "cell_type": "code",
      "source": [
        "# Crop and store Title with keys like title_1, title_2, [you would usually only have 1 title, its been put in a list for handling edge case]...\n",
        "for i, (x1, y1, x2, y2) in enumerate(title, start=1):\n",
        "    crop = image[y1:y2, x1:x2]\n",
        "    key = f\"title_{i}\"\n",
        "    cropped_images[key] = crop"
      ],
      "metadata": {
        "id": "vPx4Hr3bk6Qs"
      },
      "execution_count": null,
      "outputs": []
    },
    {
      "cell_type": "code",
      "source": [
        "# Crop and store Legend with keys like legend_1, legend_2, [you would usually only have 1 legend, its been put in a list for handling edge case]...\n",
        "for i, (x1, y1, x2, y2) in enumerate(legend, start=1):\n",
        "    crop = image[y1:y2, x1:x2]\n",
        "    key = f\"legend_{i}\"\n",
        "    cropped_images[key] = crop"
      ],
      "metadata": {
        "id": "B5RdILSDk6EE"
      },
      "execution_count": null,
      "outputs": []
    },
    {
      "cell_type": "code",
      "source": [
        "# Visualize one of the cropped images\n",
        "plt.imshow(cv2.cvtColor(cropped_images[\"data_point_label_1\"], cv2.COLOR_BGR2RGB))\n",
        "plt.title(\"Data Point Label 1\")\n",
        "plt.show()"
      ],
      "metadata": {
        "colab": {
          "base_uri": "https://localhost:8080/",
          "height": 303
        },
        "id": "98ZlFZSl3c98",
        "outputId": "1efdb563-64cc-4090-98ed-1e78b7d53e09"
      },
      "execution_count": null,
      "outputs": [
        {
          "output_type": "display_data",
          "data": {
            "text/plain": [
              "<Figure size 640x480 with 1 Axes>"
            ],
            "image/png": "[encoded data removed]"
          },
          "metadata": {}
        }
      ]
    },
    {
      "cell_type": "code",
      "source": [
        "# Initialize PaddleOCR for text extraction\n",
        "ocr = PaddleOCR(use_angle_cls=True, lang=\"en\")\n",
        "\n",
        "# Create a dictionary to store the OCR results\n",
        "ocr_results = {}"
      ],
      "metadata": {
        "colab": {
          "base_uri": "https://localhost:8080/"
        },
        "id": "MvFcvGR13iZt",
        "outputId": "34946a63-c359-444d-dc90-475c505880c2"
      },
      "execution_count": null,
      "outputs": [
        {
          "output_type": "stream",
          "name": "stdout",
          "text": [
            "[2025/03/07 17:27:56] ppocr DEBUG: Namespace(help='==SUPPRESS==', use_gpu=False, use_xpu=False, use_npu=False, use_mlu=False, use_gcu=False, ir_optim=True, use_tensorrt=False, min_subgraph_size=15, precision='fp32', gpu_mem=500, gpu_id=0, image_dir=None, page_num=0, det_algorithm='DB', det_model_dir='/root/.paddleocr/whl/det/en/en_PP-OCRv3_det_infer', det_limit_side_len=960, det_limit_type='max', det_box_type='quad', det_db_thresh=0.3, det_db_box_thresh=0.6, det_db_unclip_ratio=1.5, max_batch_size=10, use_dilation=False, det_db_score_mode='fast', det_east_score_thresh=0.8, det_east_cover_thresh=0.1, det_east_nms_thresh=0.2, det_sast_score_thresh=0.5, det_sast_nms_thresh=0.2, det_pse_thresh=0, det_pse_box_thresh=0.85, det_pse_min_area=16, det_pse_scale=1, scales=[8, 16, 32], alpha=1.0, beta=1.0, fourier_degree=5, rec_algorithm='SVTR_LCNet', rec_model_dir='/root/.paddleocr/whl/rec/en/en_PP-OCRv4_rec_infer', rec_image_inverse=True, rec_image_shape='3, 48, 320', rec_batch_num=6, max_text_length=25, rec_char_dict_path='/usr/local/lib/python3.11/dist-packages/paddleocr/ppocr/utils/en_dict.txt', use_space_char=True, vis_font_path='./doc/fonts/simfang.ttf', drop_score=0.5, e2e_algorithm='PGNet', e2e_model_dir=None, e2e_limit_side_len=768, e2e_limit_type='max', e2e_pgnet_score_thresh=0.5, e2e_char_dict_path='./ppocr/utils/ic15_dict.txt', e2e_pgnet_valid_set='totaltext', e2e_pgnet_mode='fast', use_angle_cls=True, cls_model_dir='/root/.paddleocr/whl/cls/ch_ppocr_mobile_v2.0_cls_infer', cls_image_shape='3, 48, 192', label_list=['0', '180'], cls_batch_num=6, cls_thresh=0.9, enable_mkldnn=False, cpu_threads=10, use_pdserving=False, warmup=False, sr_model_dir=None, sr_image_shape='3, 32, 128', sr_batch_num=1, draw_img_save_dir='./inference_results', save_crop_res=False, crop_res_save_dir='./output', use_mp=False, total_process_num=1, process_id=0, benchmark=False, save_log_path='./log_output/', show_log=True, use_onnx=False, onnx_providers=False, onnx_sess_options=False, return_word_box=False, output='./output', table_max_len=488, table_algorithm='TableAttn', table_model_dir=None, merge_no_span_structure=True, table_char_dict_path=None, formula_algorithm='LaTeXOCR', formula_model_dir=None, formula_char_dict_path=None, formula_batch_num=1, layout_model_dir=None, layout_dict_path=None, layout_score_threshold=0.5, layout_nms_threshold=0.5, kie_algorithm='LayoutXLM', ser_model_dir=None, re_model_dir=None, use_visual_backbone=True, ser_dict_path='../train_data/XFUND/class_list_xfun.txt', ocr_order_method=None, mode='structure', image_orientation=False, layout=True, table=True, formula=False, ocr=True, recovery=False, recovery_to_markdown=False, use_pdf2docx_api=False, invert=False, binarize=False, alphacolor=(255, 255, 255), lang='en', det=True, rec=True, type='ocr', savefile=False, ocr_version='PP-OCRv4', structure_version='PP-StructureV2')\n"
          ]
        }
      ]
    },
    {
      "cell_type": "code",
      "source": [
        "# Process each cropped image with OCR\n",
        "for key, crop in cropped_images.items():\n",
        "    result = ocr.ocr(crop, cls=True)\n",
        "    extracted_text = []\n",
        "    # The result structure is a list of lines, each line may have multiple words\n",
        "    for line in result:\n",
        "        for word_info in line:\n",
        "            text = word_info[1][0]  # Extract the recognized text\n",
        "            extracted_text.append(text)\n",
        "    # Store the concatenated OCR result using the same key\n",
        "    ocr_results[key] = \" \".join(extracted_text)"
      ],
      "metadata": {
        "colab": {
          "base_uri": "https://localhost:8080/"
        },
        "id": "bRWWW0uH3tYY",
        "outputId": "3d8bb2c4-a3fd-4ecc-f739-133c89b188a8"
      },
      "execution_count": null,
      "outputs": [
        {
          "output_type": "stream",
          "name": "stdout",
          "text": [
            "[2025/03/07 17:27:58] ppocr DEBUG: dt_boxes num : 1, elapsed : 0.0667121410369873\n",
            "[2025/03/07 17:27:58] ppocr DEBUG: cls num  : 1, elapsed : 0.03338503837585449\n",
            "[2025/03/07 17:27:58] ppocr DEBUG: rec_res num  : 1, elapsed : 0.2908501625061035\n",
            "[2025/03/07 17:27:58] ppocr DEBUG: dt_boxes num : 1, elapsed : 0.021088600158691406\n",
            "[2025/03/07 17:27:58] ppocr DEBUG: cls num  : 1, elapsed : 0.016352415084838867\n",
            "[2025/03/07 17:27:58] ppocr DEBUG: rec_res num  : 1, elapsed : 0.07491660118103027\n",
            "[2025/03/07 17:27:58] ppocr DEBUG: dt_boxes num : 1, elapsed : 0.01986527442932129\n",
            "[2025/03/07 17:27:58] ppocr DEBUG: cls num  : 1, elapsed : 0.013469934463500977\n",
            "[2025/03/07 17:27:58] ppocr DEBUG: rec_res num  : 1, elapsed : 0.06927299499511719\n",
            "[2025/03/07 17:27:58] ppocr DEBUG: dt_boxes num : 1, elapsed : 0.01989436149597168\n",
            "[2025/03/07 17:27:58] ppocr DEBUG: cls num  : 1, elapsed : 0.014837503433227539\n",
            "[2025/03/07 17:27:58] ppocr DEBUG: rec_res num  : 1, elapsed : 0.06895017623901367\n",
            "[2025/03/07 17:27:58] ppocr DEBUG: dt_boxes num : 1, elapsed : 0.019036054611206055\n",
            "[2025/03/07 17:27:58] ppocr DEBUG: cls num  : 1, elapsed : 0.014976739883422852\n",
            "[2025/03/07 17:27:59] ppocr DEBUG: rec_res num  : 1, elapsed : 0.06989145278930664\n",
            "[2025/03/07 17:27:59] ppocr DEBUG: dt_boxes num : 1, elapsed : 0.02160334587097168\n",
            "[2025/03/07 17:27:59] ppocr DEBUG: cls num  : 1, elapsed : 0.01476144790649414\n",
            "[2025/03/07 17:27:59] ppocr DEBUG: rec_res num  : 1, elapsed : 0.07169628143310547\n",
            "[2025/03/07 17:27:59] ppocr DEBUG: dt_boxes num : 1, elapsed : 0.019746065139770508\n",
            "[2025/03/07 17:27:59] ppocr DEBUG: cls num  : 1, elapsed : 0.018314123153686523\n",
            "[2025/03/07 17:27:59] ppocr DEBUG: rec_res num  : 1, elapsed : 0.06852579116821289\n",
            "[2025/03/07 17:27:59] ppocr DEBUG: dt_boxes num : 1, elapsed : 0.018537521362304688\n",
            "[2025/03/07 17:27:59] ppocr DEBUG: cls num  : 1, elapsed : 0.014716625213623047\n",
            "[2025/03/07 17:27:59] ppocr DEBUG: rec_res num  : 1, elapsed : 0.06686854362487793\n",
            "[2025/03/07 17:27:59] ppocr DEBUG: dt_boxes num : 1, elapsed : 0.020430326461791992\n",
            "[2025/03/07 17:27:59] ppocr DEBUG: cls num  : 1, elapsed : 0.015376091003417969\n",
            "[2025/03/07 17:27:59] ppocr DEBUG: rec_res num  : 1, elapsed : 0.08279991149902344\n",
            "[2025/03/07 17:27:59] ppocr DEBUG: dt_boxes num : 1, elapsed : 0.02440333366394043\n",
            "[2025/03/07 17:27:59] ppocr DEBUG: cls num  : 1, elapsed : 0.014197587966918945\n",
            "[2025/03/07 17:27:59] ppocr DEBUG: rec_res num  : 1, elapsed : 0.06578397750854492\n",
            "[2025/03/07 17:27:59] ppocr DEBUG: dt_boxes num : 1, elapsed : 0.059250831604003906\n",
            "[2025/03/07 17:27:59] ppocr DEBUG: cls num  : 1, elapsed : 0.022258758544921875\n",
            "[2025/03/07 17:27:59] ppocr DEBUG: rec_res num  : 1, elapsed : 0.057555198669433594\n",
            "[2025/03/07 17:27:59] ppocr DEBUG: dt_boxes num : 1, elapsed : 0.014328956604003906\n",
            "[2025/03/07 17:27:59] ppocr DEBUG: cls num  : 1, elapsed : 0.012204885482788086\n",
            "[2025/03/07 17:27:59] ppocr DEBUG: rec_res num  : 1, elapsed : 0.05703091621398926\n",
            "[2025/03/07 17:27:59] ppocr DEBUG: dt_boxes num : 1, elapsed : 0.05200004577636719\n",
            "[2025/03/07 17:27:59] ppocr DEBUG: cls num  : 1, elapsed : 0.01111149787902832\n",
            "[2025/03/07 17:27:59] ppocr DEBUG: rec_res num  : 1, elapsed : 0.055625200271606445\n",
            "[2025/03/07 17:27:59] ppocr DEBUG: dt_boxes num : 1, elapsed : 0.014086008071899414\n",
            "[2025/03/07 17:27:59] ppocr DEBUG: cls num  : 1, elapsed : 0.01093292236328125\n",
            "[2025/03/07 17:28:00] ppocr DEBUG: rec_res num  : 1, elapsed : 0.0658721923828125\n",
            "[2025/03/07 17:28:00] ppocr DEBUG: dt_boxes num : 1, elapsed : 0.05233049392700195\n",
            "[2025/03/07 17:28:00] ppocr DEBUG: cls num  : 1, elapsed : 0.011307954788208008\n",
            "[2025/03/07 17:28:00] ppocr DEBUG: rec_res num  : 1, elapsed : 0.059453487396240234\n",
            "[2025/03/07 17:28:00] ppocr DEBUG: dt_boxes num : 1, elapsed : 0.015338659286499023\n",
            "[2025/03/07 17:28:00] ppocr DEBUG: cls num  : 1, elapsed : 0.011074304580688477\n",
            "[2025/03/07 17:28:00] ppocr DEBUG: rec_res num  : 1, elapsed : 0.06928753852844238\n",
            "[2025/03/07 17:28:00] ppocr DEBUG: dt_boxes num : 1, elapsed : 0.01451253890991211\n",
            "[2025/03/07 17:28:00] ppocr DEBUG: cls num  : 1, elapsed : 0.010520458221435547\n",
            "[2025/03/07 17:28:00] ppocr DEBUG: rec_res num  : 1, elapsed : 0.05742025375366211\n",
            "[2025/03/07 17:28:00] ppocr DEBUG: dt_boxes num : 1, elapsed : 0.016782283782958984\n",
            "[2025/03/07 17:28:00] ppocr DEBUG: cls num  : 1, elapsed : 0.011656045913696289\n",
            "[2025/03/07 17:28:00] ppocr DEBUG: rec_res num  : 1, elapsed : 0.06865549087524414\n",
            "[2025/03/07 17:28:00] ppocr DEBUG: dt_boxes num : 1, elapsed : 0.018004894256591797\n",
            "[2025/03/07 17:28:00] ppocr DEBUG: cls num  : 1, elapsed : 0.01444864273071289\n",
            "[2025/03/07 17:28:00] ppocr DEBUG: rec_res num  : 1, elapsed : 0.06318116188049316\n",
            "[2025/03/07 17:28:00] ppocr DEBUG: dt_boxes num : 1, elapsed : 0.014931440353393555\n",
            "[2025/03/07 17:28:00] ppocr DEBUG: cls num  : 1, elapsed : 0.011241436004638672\n",
            "[2025/03/07 17:28:00] ppocr DEBUG: rec_res num  : 1, elapsed : 0.057248592376708984\n",
            "[2025/03/07 17:28:00] ppocr DEBUG: dt_boxes num : 1, elapsed : 0.013856887817382812\n",
            "[2025/03/07 17:28:00] ppocr DEBUG: cls num  : 1, elapsed : 0.011855840682983398\n",
            "[2025/03/07 17:28:00] ppocr DEBUG: rec_res num  : 1, elapsed : 0.06165933609008789\n",
            "[2025/03/07 17:28:00] ppocr DEBUG: dt_boxes num : 1, elapsed : 0.014323711395263672\n",
            "[2025/03/07 17:28:00] ppocr DEBUG: cls num  : 1, elapsed : 0.010899782180786133\n",
            "[2025/03/07 17:28:00] ppocr DEBUG: rec_res num  : 1, elapsed : 0.05645442008972168\n",
            "[2025/03/07 17:28:00] ppocr DEBUG: dt_boxes num : 1, elapsed : 0.05997300148010254\n",
            "[2025/03/07 17:28:00] ppocr DEBUG: cls num  : 1, elapsed : 0.010743379592895508\n",
            "[2025/03/07 17:28:00] ppocr DEBUG: rec_res num  : 1, elapsed : 0.05529952049255371\n",
            "[2025/03/07 17:28:01] ppocr DEBUG: dt_boxes num : 1, elapsed : 0.06830692291259766\n",
            "[2025/03/07 17:28:01] ppocr DEBUG: cls num  : 1, elapsed : 0.01004481315612793\n",
            "[2025/03/07 17:28:01] ppocr DEBUG: rec_res num  : 1, elapsed : 0.12352371215820312\n",
            "[2025/03/07 17:28:01] ppocr DEBUG: dt_boxes num : 2, elapsed : 0.16034841537475586\n",
            "[2025/03/07 17:28:01] ppocr DEBUG: cls num  : 2, elapsed : 0.041976213455200195\n",
            "[2025/03/07 17:28:01] ppocr DEBUG: rec_res num  : 2, elapsed : 0.2731611728668213\n",
            "[2025/03/07 17:28:01] ppocr DEBUG: dt_boxes num : 1, elapsed : 0.10198664665222168\n",
            "[2025/03/07 17:28:01] ppocr DEBUG: cls num  : 1, elapsed : 0.013900518417358398\n",
            "[2025/03/07 17:28:01] ppocr DEBUG: rec_res num  : 1, elapsed : 0.11141324043273926\n"
          ]
        }
      ]
    },
    {
      "cell_type": "code",
      "source": [
        "# Print or process your OCR results\n",
        "for key, text in ocr_results.items():\n",
        "    print(f\"{key}: {text}\")"
      ],
      "metadata": {
        "colab": {
          "base_uri": "https://localhost:8080/"
        },
        "id": "Wkk1hEWX3vdn",
        "outputId": "58f5fb73-868c-48d7-c21a-ad47c6c31724"
      },
      "execution_count": null,
      "outputs": [
        {
          "output_type": "stream",
          "name": "stdout",
          "text": [
            "data_point_label_1: 25C\n",
            "data_point_label_2: 27C\n",
            "data_point_label_3: 29C\n",
            "data_point_label_4: 28C\n",
            "data_point_label_5: 26C\n",
            "data_point_label_6: 24C\n",
            "data_point_label_7: 22C\n",
            "data_point_label_8: 23C\n",
            "data_point_label_9: 21C\n",
            "data_point_label_10: 20C\n",
            "x_axis_ticks_1: 2\n",
            "x_axis_ticks_2: 4\n",
            "x_axis_ticks_3: 6\n",
            "x_axis_ticks_4: 8\n",
            "x_axis_ticks_5: 10\n",
            "y_axis_ticks_1: 0\n",
            "y_axis_ticks_2: 5\n",
            "y_axis_ticks_3: 10\n",
            "y_axis_ticks_4: 15\n",
            "y_axis_ticks_5: 20\n",
            "y_axis_ticks_6: 25\n",
            "y_axis_ticks_7: 30\n",
            "x_axis_title_1: Day\n",
            "y_axis_title_1: Temperature (C)\n",
            "title_1: Daily  Temperature Variation\n",
            "legend_1: Temperature\n"
          ]
        }
      ]
    }
  ]
}