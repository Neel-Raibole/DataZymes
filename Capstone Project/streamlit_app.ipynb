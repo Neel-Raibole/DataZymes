{
 "cells": [
  {
   "cell_type": "code",
   "execution_count": 1,
   "id": "76a92301-5bf1-4784-956a-1a2f868b1c90",
   "metadata": {},
   "outputs": [],
   "source": [
    "import os\n",
    "import json\n",
    "from ultralytics import YOLO\n",
    "from PIL import Image\n",
    "from IPython.display import display\n",
    "import matplotlib.pyplot as plt\n",
    "import numpy as np\n",
    "import cv2\n",
    "from scipy.ndimage import gaussian_filter1d\n",
    "from scipy.signal import find_peaks\n",
    "from paddleocr import PaddleOCR\n",
    "\n",
    "from datasets import load_dataset, concatenate_datasets\n",
    "from transformers import T5Tokenizer\n",
    "from torch.utils.data import DataLoader\n",
    "from transformers import T5ForConditionalGeneration\n",
    "from transformers import Trainer, TrainingArguments\n",
    "import torch\n",
    "\n",
    "from sklearn.mixture import GaussianMixture\n",
    "from scipy.optimize import linear_sum_assignment\n",
    "from skimage.color import deltaE_ciede2000, rgb2lab\n",
    "from sklearn.cluster import KMeans\n",
    "\n",
    "import streamlit as st\n",
    "from Capstone_Project_Code import process_line_chart_without_data_points_full, process_line_chart_with_data_points_full\n",
    "from Capstone_Project_Code import process_bar_chart_without_data_points_full, process_bar_chart_with_data_points_full\n",
    "from Capstone_Project_Code import process_full_pie_chart"
   ]
  },
  {
   "cell_type": "code",
   "execution_count": 2,
   "id": "02dfe781-70d4-4e8c-b972-6b1423749004",
   "metadata": {},
   "outputs": [],
   "source": [
    "# Calling YOLO Model\n",
    "# Path to your trained model weights and test image\n",
    "model_path = \"run2/detect/final_model_continued/weights/best.pt\"\n",
    "# Load the trained model\n",
    "model = YOLO(model_path)"
   ]
  },
  {
   "cell_type": "code",
   "execution_count": 6,
   "id": "bf483a8c-e022-42ca-8578-96772ea36239",
   "metadata": {},
   "outputs": [
    {
     "name": "stderr",
     "output_type": "stream",
     "text": [
      "2025-03-28 06:34:29.224 Thread 'MainThread': missing ScriptRunContext! This warning can be ignored when running in bare mode.\n",
      "2025-03-28 06:34:29.226 Thread 'MainThread': missing ScriptRunContext! This warning can be ignored when running in bare mode.\n"
     ]
    },
    {
     "data": {
      "text/plain": [
       "DeltaGenerator()"
      ]
     },
     "execution_count": 6,
     "metadata": {},
     "output_type": "execute_result"
    }
   ],
   "source": [
    "st.title(\"Chart Analyzer App\")"
   ]
  },
  {
   "cell_type": "code",
   "execution_count": 7,
   "id": "15b5573c-a52c-4a85-8d63-4a6e714a7dea",
   "metadata": {},
   "outputs": [
    {
     "name": "stderr",
     "output_type": "stream",
     "text": [
      "2025-03-28 06:34:31.743 Thread 'MainThread': missing ScriptRunContext! This warning can be ignored when running in bare mode.\n",
      "2025-03-28 06:34:31.745 Thread 'MainThread': missing ScriptRunContext! This warning can be ignored when running in bare mode.\n",
      "2025-03-28 06:34:31.746 Thread 'MainThread': missing ScriptRunContext! This warning can be ignored when running in bare mode.\n",
      "2025-03-28 06:34:31.747 Thread 'MainThread': missing ScriptRunContext! This warning can be ignored when running in bare mode.\n",
      "2025-03-28 06:34:31.750 Thread 'MainThread': missing ScriptRunContext! This warning can be ignored when running in bare mode.\n",
      "2025-03-28 06:34:31.751 Thread 'MainThread': missing ScriptRunContext! This warning can be ignored when running in bare mode.\n",
      "2025-03-28 06:34:31.752 Thread 'MainThread': missing ScriptRunContext! This warning can be ignored when running in bare mode.\n",
      "2025-03-28 06:34:31.753 Thread 'MainThread': missing ScriptRunContext! This warning can be ignored when running in bare mode.\n",
      "2025-03-28 06:34:31.753 Thread 'MainThread': missing ScriptRunContext! This warning can be ignored when running in bare mode.\n",
      "2025-03-28 06:34:31.754 Session state does not function when running a script without `streamlit run`\n",
      "2025-03-28 06:34:31.755 Thread 'MainThread': missing ScriptRunContext! This warning can be ignored when running in bare mode.\n",
      "2025-03-28 06:34:31.755 Thread 'MainThread': missing ScriptRunContext! This warning can be ignored when running in bare mode.\n",
      "2025-03-28 06:34:31.756 Thread 'MainThread': missing ScriptRunContext! This warning can be ignored when running in bare mode.\n",
      "2025-03-28 06:34:31.758 Thread 'MainThread': missing ScriptRunContext! This warning can be ignored when running in bare mode.\n",
      "2025-03-28 06:34:31.758 Thread 'MainThread': missing ScriptRunContext! This warning can be ignored when running in bare mode.\n",
      "2025-03-28 06:34:31.758 Thread 'MainThread': missing ScriptRunContext! This warning can be ignored when running in bare mode.\n",
      "2025-03-28 06:34:31.758 Thread 'MainThread': missing ScriptRunContext! This warning can be ignored when running in bare mode.\n",
      "2025-03-28 06:34:31.762 Thread 'MainThread': missing ScriptRunContext! This warning can be ignored when running in bare mode.\n"
     ]
    }
   ],
   "source": [
    "# Image upload box\n",
    "uploaded_file = st.file_uploader(\"Upload an image\", type=[\"png\", \"jpg\", \"jpeg\"])\n",
    "\n",
    "# Dropdown for chart type selection\n",
    "chart_type = st.selectbox(\"Select Chart Type\", [\"Pie Chart\", \"Line Chart\", \"Bar Chart\"])\n",
    "# Debugging Statement: st.write(\"Chart Type selected:\", chart_type)\n",
    "\n",
    "# Dropdown for data points option\n",
    "data_points_option = st.selectbox(\"Select Data Points Option\", [\"With Data Points\", \"Without Data Points\"])\n",
    "# Debugging Statement: st.write(\"Data Points Option selected:\", data_points_option)"
   ]
  },
  {
   "cell_type": "code",
   "execution_count": 8,
   "id": "487399a6-2ee9-45ef-b0c9-2eeca1f1b582",
   "metadata": {},
   "outputs": [
    {
     "name": "stderr",
     "output_type": "stream",
     "text": [
      "2025-03-28 06:36:55.746 Thread 'MainThread': missing ScriptRunContext! This warning can be ignored when running in bare mode.\n",
      "2025-03-28 06:36:55.747 Thread 'MainThread': missing ScriptRunContext! This warning can be ignored when running in bare mode.\n",
      "2025-03-28 06:36:55.748 Thread 'MainThread': missing ScriptRunContext! This warning can be ignored when running in bare mode.\n",
      "2025-03-28 06:36:55.750 Thread 'MainThread': missing ScriptRunContext! This warning can be ignored when running in bare mode.\n",
      "2025-03-28 06:36:55.752 Thread 'MainThread': missing ScriptRunContext! This warning can be ignored when running in bare mode.\n"
     ]
    }
   ],
   "source": [
    "# Submit button to trigger processing\n",
    "if st.button(\"Submit\"):\n",
    "    if uploaded_file is not None:\n",
    "        # Display uploaded image\n",
    "        image = Image.open(uploaded_file)\n",
    "        st.image(image, caption = \"Uploaded Image\", use_column_width = True)\n",
    "        \n",
    "        # Save the uploaded file temporarily\n",
    "        image_path = \"temp_image.png\"\n",
    "        image.save(image_path)\n",
    "        \n",
    "        # Nested if-else to call the appropriate function based on dropdown selections\n",
    "        result = None\n",
    "        \n",
    "        if chart_type == \"Pie Chart\":\n",
    "            if data_points_option == \"With Data Points\":\n",
    "                result = process_full_pie_chart(image_path)\n",
    "            \n",
    "            else:  # Without Data Points\n",
    "                result = process_full_pie_chart(image_path)\n",
    "\n",
    "        \n",
    "        elif chart_type == \"Line Chart\":\n",
    "            if data_points_option == \"With Data Points\":\n",
    "                result = process_line_chart_with_data_points_full(image_path)\n",
    "            \n",
    "            else:  # Without Data Points\n",
    "                result = process_line_chart_without_data_points_full(image_path)\n",
    "\n",
    "        \n",
    "        elif chart_type == \"Bar Chart\":\n",
    "            if data_points_option == \"With Data Points\":\n",
    "                result = process_bar_chart_with_data_points_full(image_path)\n",
    "            \n",
    "            else:  # Without Data Points\n",
    "                result = process_bar_chart_without_data_points_full(image_path)\n",
    "        \n",
    "        # Display output area with results\n",
    "        st.write(\"### Extracted Chart Data:\")\n",
    "        st.write(result)\n",
    "    else:\n",
    "        st.error(\"Please upload an image.\")"
   ]
  }
 ],
 "metadata": {
  "kernelspec": {
   "display_name": "Python 3 (ipykernel)",
   "language": "python",
   "name": "python3"
  },
  "language_info": {
   "codemirror_mode": {
    "name": "ipython",
    "version": 3
   },
   "file_extension": ".py",
   "mimetype": "text/x-python",
   "name": "python",
   "nbconvert_exporter": "python",
   "pygments_lexer": "ipython3",
   "version": "3.9.15"
  }
 },
 "nbformat": 4,
 "nbformat_minor": 5
}
