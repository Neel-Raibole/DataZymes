{
 "cells": [
  {
   "cell_type": "code",
   "execution_count": 1,
   "id": "76a92301-5bf1-4784-956a-1a2f868b1c90",
   "metadata": {},
   "outputs": [],
   "source": [
    "import os\n",
    "import json\n",
    "from ultralytics import YOLO\n",
    "from PIL import Image\n",
    "from IPython.display import display\n",
    "import matplotlib.pyplot as plt\n",
    "import numpy as np\n",
    "import cv2\n",
    "from scipy.ndimage import gaussian_filter1d\n",
    "from scipy.signal import find_peaks\n",
    "from paddleocr import PaddleOCR\n",
    "\n",
    "from datasets import load_dataset, concatenate_datasets\n",
    "from transformers import T5Tokenizer\n",
    "from torch.utils.data import DataLoader\n",
    "from transformers import T5ForConditionalGeneration\n",
    "from transformers import Trainer, TrainingArguments\n",
    "import torch\n",
    "\n",
    "from sklearn.mixture import GaussianMixture\n",
    "from scipy.optimize import linear_sum_assignment\n",
    "from skimage.color import deltaE_ciede2000, rgb2lab\n",
    "from sklearn.cluster import KMeans\n",
    "\n",
    "import streamlit as st\n",
    "from Capstone_Project_Code import process_line_chart_without_data_points_full, process_line_chart_with_data_points_full\n",
    "from Capstone_Project_Code import process_bar_chart_without_data_points_full, process_bar_chart_with_data_points_full\n",
    "from Capstone_Project_Code import process_full_pie_chart"
   ]
  },
  {
   "cell_type": "code",
   "execution_count": 2,
   "id": "02dfe781-70d4-4e8c-b972-6b1423749004",
   "metadata": {},
   "outputs": [],
   "source": [
    "# Calling YOLO Model\n",
    "# Path to your trained model weights and test image\n",
    "model_path = \"run2/detect/final_model_continued/weights/best.pt\"\n",
    "# Load the trained model\n",
    "model = YOLO(model_path)"
   ]
  },
  {
   "cell_type": "code",
   "execution_count": 3,
   "id": "896cc69a-fb73-477d-be98-6d41a12b7fb5",
   "metadata": {},
   "outputs": [
    {
     "name": "stderr",
     "output_type": "stream",
     "text": [
      "2025-03-28 06:07:06.155 WARNING streamlit.runtime.scriptrunner_utils.script_run_context: Thread 'MainThread': missing ScriptRunContext! This warning can be ignored when running in bare mode.\n",
      "2025-03-28 06:07:07.871 \n",
      "  \u001b[33m\u001b[1mWarning:\u001b[0m to view this Streamlit app on a browser, run it with the following\n",
      "  command:\n",
      "\n",
      "    streamlit run C:\\Users\\neel9\\anaconda3\\envs\\yolov-env\\lib\\site-packages\\ipykernel_launcher.py [ARGUMENTS]\n",
      "2025-03-28 06:07:07.872 Thread 'MainThread': missing ScriptRunContext! This warning can be ignored when running in bare mode.\n"
     ]
    },
    {
     "data": {
      "text/plain": [
       "DeltaGenerator()"
      ]
     },
     "execution_count": 3,
     "metadata": {},
     "output_type": "execute_result"
    }
   ],
   "source": [
    "st.title(\"Chart Analyzer\")"
   ]
  },
  {
   "cell_type": "code",
   "execution_count": 4,
   "id": "80f99cdc-8460-4910-b7b3-73f8c08f4a61",
   "metadata": {},
   "outputs": [
    {
     "name": "stderr",
     "output_type": "stream",
     "text": [
      "2025-03-28 06:07:07.905 Thread 'MainThread': missing ScriptRunContext! This warning can be ignored when running in bare mode.\n",
      "2025-03-28 06:07:07.906 Thread 'MainThread': missing ScriptRunContext! This warning can be ignored when running in bare mode.\n",
      "2025-03-28 06:07:07.907 Thread 'MainThread': missing ScriptRunContext! This warning can be ignored when running in bare mode.\n",
      "2025-03-28 06:07:07.908 Thread 'MainThread': missing ScriptRunContext! This warning can be ignored when running in bare mode.\n",
      "2025-03-28 06:07:07.909 Thread 'MainThread': missing ScriptRunContext! This warning can be ignored when running in bare mode.\n"
     ]
    }
   ],
   "source": [
    "# Upload an image\n",
    "uploaded_file = st.file_uploader(\"Upload a chart image\", type = [\"jpg\", \"png\", \"jpeg\"])"
   ]
  },
  {
   "cell_type": "code",
   "execution_count": 5,
   "id": "2d491eb7-4d69-4a52-94df-7f38be56625d",
   "metadata": {},
   "outputs": [],
   "source": [
    "if uploaded_file is not None:\n",
    "    # Display uploaded image\n",
    "    image = Image.open(uploaded_file)\n",
    "    st.image(image, caption = \"Uploaded Image\", use_column_width = True)\n",
    "\n",
    "    # Save the uploaded file\n",
    "    image_path = \"temp_image.png\"\n",
    "    image.save(image_path)\n",
    "\n",
    "    # Process the image\n",
    "    with st.spinner(\"Processing...\"):\n",
    "        result = process_full_chart(image_path)  # Call your main function\n",
    "    \n",
    "    # Display results\n",
    "    st.write(\"### Extracted Chart Data:\")\n",
    "    st.json(result)  # Display the mapping as JSON"
   ]
  },
  {
   "cell_type": "code",
   "execution_count": null,
   "id": "5b81ccab-897a-4e27-a9da-4de1ab679e12",
   "metadata": {},
   "outputs": [],
   "source": []
  }
 ],
 "metadata": {
  "kernelspec": {
   "display_name": "Python 3 (ipykernel)",
   "language": "python",
   "name": "python3"
  },
  "language_info": {
   "codemirror_mode": {
    "name": "ipython",
    "version": 3
   },
   "file_extension": ".py",
   "mimetype": "text/x-python",
   "name": "python",
   "nbconvert_exporter": "python",
   "pygments_lexer": "ipython3",
   "version": "3.9.15"
  }
 },
 "nbformat": 4,
 "nbformat_minor": 5
}
